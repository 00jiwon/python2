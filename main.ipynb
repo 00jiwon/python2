{
 "cells": [
  {
   "cell_type": "markdown",
   "metadata": {},
   "source": [
    "1.제너레이터"
   ]
  },
  {
   "cell_type": "code",
   "execution_count": 10,
   "metadata": {},
   "outputs": [
    {
     "name": "stdout",
     "output_type": "stream",
     "text": [
      "다음은 “컴퓨터의 역사와 발전”이라는 주제로 작성한 약 2000자 분량의 글입니다.\n",
      "컴퓨터의 역사와 발전\n",
      "1. 컴퓨터의 기원\n",
      "컴퓨터의 역사는 수천 년 전으로 거슬러 올라갑니다. 고대 문명에서는 간단한 계산을 수행하기 위해 주판과 같은 도구를 사용했으며, 이는 오늘날 컴퓨터의 개념적 기초가 되었습니다. 그러나 현대적인 의미에서의 컴퓨터는 19세기에 등장한 찰스 배비지(Charles Babbage)의 “차분 기관(Difference Engine)“을 기점으로 본격적인 발전을 이루었습니다. 배비지는 기계적 방식으로 계산을 자동화하려 했으며, 그의 후속 작업인 “해석 기관(Analytical Engine)“은 프로그래밍 가능한 기계의 개념을 제시했습니다. 이와 함께 에이다 러브레이스(Ada Lovelace)는 최초의 컴퓨터 프로그래머로 인정받고 있으며, 배비지의 기계를 위한 프로그램을 설계한 바 있습니다.\n",
      "2. 1세대 컴퓨터 (1940년대~1950년대)\n",
      "제2차 세계 대전 동안 연합군은 암호 해독 및 탄도 계산을 위해 컴퓨터의 필요성을 절실히 느꼈습니다. 이 시기에 개발된 최초의 전자식 컴퓨터 중 하나가 바로 “에니악(ENIAC)“입니다. 1946년에 개발된 에니악은 18,000개의 진공관을 사용하여 연산을 수행했으며, 주로 군사 목적으로 활용되었습니다.\n",
      "1세대 컴퓨터의 특징은 다음과 같습니다.\n",
      "    •\t**진공관(Vacuum Tube)**을 사용하여 정보를 처리\n",
      "    •\t대형 크기 및 높은 전력 소비\n",
      "    •\t매우 느린 처리 속도와 높은 유지보수 비용\n",
      "이러한 단점에도 불구하고 1세대 컴퓨터는 최초로 계산을 자동화할 수 있는 시스템을 제공하였으며, 이후 발전의 기초가 되었습니다.\n",
      "3. 2세대 컴퓨터 (1950년대~1960년대)\n",
      "1950년대 후반에는 진공관 대신 트랜지스터가 도입되면서 컴퓨터의 성능과 효율성이 크게 향상되었습니다. 트랜지스터는 진공관보다 훨씬 작고, 에너지 소비가 적으며 내구성이 뛰어나 컴퓨터의 신뢰성을 높였습니다.\n",
      "2세대 컴퓨터의 주요 특징은 다음과 같습니다.\n",
      "    •\t트랜지스터 기반 설계\n",
      "    •\t코볼(COBOL)과 포트란(FORTRAN) 같은 프로그래밍 언어의 등장\n",
      "    •\t크기의 감소와 성능의 향상\n",
      "    •\t상업적 활용의 확대\n",
      "이 시기에는 기업들이 데이터 처리 및 회계 용도로 컴퓨터를 도입하기 시작했으며, 이는 산업 전반에 걸쳐 자동화를 촉진했습니다.\n",
      "4. 3세대 컴퓨터 (1960년대~1970년대)\n",
      "1960년대에는 집적회로(IC)의 도입으로 인해 컴퓨터의 성능이 더욱 향상되었습니다. 수천 개의 트랜지스터를 작은 실리콘 칩에 집적함으로써 컴퓨터는 더욱 작고 강력한 연산 능력을 갖게 되었습니다.\n",
      "3세대 컴퓨터의 특징은 다음과 같습니다.\n",
      "    •\t집적회로(IC)를 활용한 하드웨어 소형화\n",
      "    •\t운영체제(OS)의 등장과 멀티태스킹 기능 제공\n",
      "    •\t대량 생산으로 인한 보급 확대\n",
      "    •\t초기 인터넷 개념의 등장\n",
      "이 시기에는 컴퓨터가 기업뿐만 아니라 대학과 연구 기관으로 확산되었으며, 데이터베이스 및 네트워킹 개념이 발전하기 시작했습니다.\n",
      "5. 4세대 컴퓨터 (1970년대~현재)\n",
      "1970년대부터 현재까지의 컴퓨터는 마이크로프로세서의 등장으로 혁신적인 변화를 겪었습니다. 인텔(Intel)이 개발한 4004 마이크로프로세서는 컴퓨터의 크기를 크게 줄이고 가격을 낮춤으로써 개인용 컴퓨터(PC)의 시대를 열었습니다.\n",
      "4세대 컴퓨터의 주요 특징은 다음과 같습니다.\n",
      "    •\t마이크로프로세서 기반 컴퓨터\n",
      "    •\t그래픽 사용자 인터페이스(GUI)의 발전\n",
      "    •\t네트워킹 및 인터넷의 폭발적 성장\n",
      "    •\t인공지능(AI) 및 클라우드 컴퓨팅의 도입\n",
      "특히 1980년대에는 애플(Apple)과 IBM이 개인용 컴퓨터 시장을 주도하며, 가정과 사무실에서 컴퓨터가 필수적인 도구로 자리 잡았습니다. 이후 1990년대에는 인터넷이 보편화되며 전자상거래, 이메일, 웹 서비스 등이 활성화되었습니다.\n",
      "6. 5세대 컴퓨터 (미래)\n",
      "현재 우리는 인공지능(AI), 머신러닝, 양자 컴퓨팅, 사물인터넷(IoT) 등의 첨단 기술을 활용한 5세대 컴퓨터 시대를 맞이하고 있습니다. 특히 인공지능의 발전은 의료, 금융, 제조업 등 다양한 분야에서 새로운 혁신을 창출하고 있습니다.\n",
      "미래의 컴퓨터는 다음과 같은 특징을 가질 것으로 예상됩니다.\n",
      "    •\t자율적인 의사 결정 능력을 갖춘 AI 컴퓨터\n",
      "    •\t빅데이터를 실시간으로 분석하고 처리할 수 있는 능력\n",
      "    •\t생체 인식 및 개인 맞춤형 컴퓨팅 경험 제공\n",
      "    •\t양자 컴퓨터를 활용한 극한의 계산 능력\n",
      "이미 구글과 IBM은 양자 컴퓨팅 분야에서 경쟁을 벌이며, 미래의 컴퓨터 성능 향상을 위해 연구를 지속하고 있습니다.\n",
      "7. 컴퓨터의 사회적 영향\n",
      "컴퓨터는 현대 사회의 모든 측면에서 필수 불가결한 도구로 자리 잡았습니다. 금융, 의료, 교육, 엔터테인먼트 등 다양한 분야에서 컴퓨터의 활용이 증가하면서 삶의 질이 향상되고 있습니다. 그러나 동시에 보안 및 프라이버시 문제도 대두되고 있으며, 컴퓨터의 남용으로 인한 부작용도 고려해야 합니다.\n",
      "특히 최근 들어 빅데이터와 인공지능 기술의 발전으로 인해 개인의 프라이버시 보호가 중요한 사회적 이슈로 부각되고 있습니다. 이에 따라 윤리적 관점에서의 접근이 요구되고 있으며, 공정하고 책임 있는 기술 사용이 강조되고 있습니다.\n",
      "결론\n",
      "컴퓨터의 발전은 인류의 생활을 혁신적으로 변화시켜 왔으며, 앞으로도 더욱 발전할 것입니다. 인공지능, 클라우드 컴퓨팅, 양자 컴퓨터와 같은 신기술의 도입은 새로운 가능성을 열어줄 것이며, 이에 따른 도전과 기회가 공존할 것입니다. 컴퓨터의 지속적인 발전을 통해 인류가 더욱 스마트하고 편리한 생활을 영위할 수 있도록 관련 기술의 윤리적이고 책임 있는 활용이 중요합니다.\n",
      "이 글이 도움이 되었나요? 더 궁금한 점이 있으면 알려주세요!"
     ]
    }
   ],
   "source": [
    "def read_large_file(file_path):\n",
    "    with open(file_path, 'r') as file:\n",
    "        for line in file:\n",
    "            yield line  # 파일의 한 줄씩 반환  yield = return\n",
    "\n",
    "# 제너레이터 사용\n",
    "for line in read_large_file('large_text_file.txt'):\n",
    "    print(line, end='')"
   ]
  },
  {
   "cell_type": "code",
   "execution_count": 11,
   "metadata": {},
   "outputs": [
    {
     "name": "stdout",
     "output_type": "stream",
     "text": [
      "[0, 1, 4, 9, 16, 25, 36, 49, 64, 81]\n",
      "0\n",
      "1\n",
      "4\n",
      "9\n",
      "16\n",
      "25\n"
     ]
    }
   ],
   "source": [
    "# 리스트 컴프리헨션\n",
    "squares = [x**2 for x in range(10)]\n",
    "print(squares)  # [0, 1, 4, 9, 16, 25, 36, 49, 64, 81]\n",
    "\n",
    "# 제너레이터 표현식\n",
    "squares_gen = (x**2 for x in range(10))\n",
    "print(next(squares_gen))  # 0         # next() : 이전 상태를 기억하고 계속해서 값을 생성\n",
    "print(next(squares_gen))  # 1\n",
    "print(next(squares_gen))\n",
    "print(next(squares_gen))\n",
    "print(next(squares_gen))\n",
    "print(next(squares_gen))"
   ]
  },
  {
   "cell_type": "code",
   "execution_count": 12,
   "metadata": {},
   "outputs": [
    {
     "ename": "PermissionError",
     "evalue": "[Errno 13] Permission denied: 'example.txt'",
     "output_type": "error",
     "traceback": [
      "\u001b[0;31m---------------------------------------------------------------------------\u001b[0m",
      "\u001b[0;31mPermissionError\u001b[0m                           Traceback (most recent call last)",
      "Cell \u001b[0;32mIn[12], line 2\u001b[0m\n\u001b[1;32m      1\u001b[0m \u001b[38;5;66;03m#with: 파일을 열고, 작업이 끝난 후 자동으로 파일을 닫아줌.\u001b[39;00m\n\u001b[0;32m----> 2\u001b[0m \u001b[38;5;28;01mwith\u001b[39;00m \u001b[38;5;28;43mopen\u001b[39;49m\u001b[43m(\u001b[49m\u001b[38;5;124;43m'\u001b[39;49m\u001b[38;5;124;43mexample.txt\u001b[39;49m\u001b[38;5;124;43m'\u001b[39;49m\u001b[43m,\u001b[49m\u001b[43m \u001b[49m\u001b[38;5;124;43m'\u001b[39;49m\u001b[38;5;124;43mw\u001b[39;49m\u001b[38;5;124;43m'\u001b[39;49m\u001b[43m)\u001b[49m \u001b[38;5;28;01mas\u001b[39;00m file:\n\u001b[1;32m      3\u001b[0m     file\u001b[38;5;241m.\u001b[39mwrite(\u001b[38;5;124m\"\u001b[39m\u001b[38;5;124mHello, World!\u001b[39m\u001b[38;5;124m\"\u001b[39m)\n",
      "File \u001b[0;32m/opt/anaconda3/envs/test1026/lib/python3.10/site-packages/IPython/core/interactiveshell.py:324\u001b[0m, in \u001b[0;36m_modified_open\u001b[0;34m(file, *args, **kwargs)\u001b[0m\n\u001b[1;32m    317\u001b[0m \u001b[38;5;28;01mif\u001b[39;00m file \u001b[38;5;129;01min\u001b[39;00m {\u001b[38;5;241m0\u001b[39m, \u001b[38;5;241m1\u001b[39m, \u001b[38;5;241m2\u001b[39m}:\n\u001b[1;32m    318\u001b[0m     \u001b[38;5;28;01mraise\u001b[39;00m \u001b[38;5;167;01mValueError\u001b[39;00m(\n\u001b[1;32m    319\u001b[0m         \u001b[38;5;124mf\u001b[39m\u001b[38;5;124m\"\u001b[39m\u001b[38;5;124mIPython won\u001b[39m\u001b[38;5;124m'\u001b[39m\u001b[38;5;124mt let you open fd=\u001b[39m\u001b[38;5;132;01m{\u001b[39;00mfile\u001b[38;5;132;01m}\u001b[39;00m\u001b[38;5;124m by default \u001b[39m\u001b[38;5;124m\"\u001b[39m\n\u001b[1;32m    320\u001b[0m         \u001b[38;5;124m\"\u001b[39m\u001b[38;5;124mas it is likely to crash IPython. If you know what you are doing, \u001b[39m\u001b[38;5;124m\"\u001b[39m\n\u001b[1;32m    321\u001b[0m         \u001b[38;5;124m\"\u001b[39m\u001b[38;5;124myou can use builtins\u001b[39m\u001b[38;5;124m'\u001b[39m\u001b[38;5;124m open.\u001b[39m\u001b[38;5;124m\"\u001b[39m\n\u001b[1;32m    322\u001b[0m     )\n\u001b[0;32m--> 324\u001b[0m \u001b[38;5;28;01mreturn\u001b[39;00m \u001b[43mio_open\u001b[49m\u001b[43m(\u001b[49m\u001b[43mfile\u001b[49m\u001b[43m,\u001b[49m\u001b[43m \u001b[49m\u001b[38;5;241;43m*\u001b[39;49m\u001b[43margs\u001b[49m\u001b[43m,\u001b[49m\u001b[43m \u001b[49m\u001b[38;5;241;43m*\u001b[39;49m\u001b[38;5;241;43m*\u001b[39;49m\u001b[43mkwargs\u001b[49m\u001b[43m)\u001b[49m\n",
      "\u001b[0;31mPermissionError\u001b[0m: [Errno 13] Permission denied: 'example.txt'"
     ]
    }
   ],
   "source": [
    "#with: 파일을 열고, 작업이 끝난 후 자동으로 파일을 닫아줌.\n",
    "with open('example.txt', 'w') as file:\n",
    "    file.write(\"Hello, World!\")"
   ]
  },
  {
   "cell_type": "code",
   "execution_count": 6,
   "metadata": {},
   "outputs": [
    {
     "name": "stdout",
     "output_type": "stream",
     "text": [
      "설정 작업 시작\n",
      "작업 수행 중...\n",
      "정리 작업 수행\n"
     ]
    }
   ],
   "source": [
    "from contextlib import contextmanager\n",
    "\n",
    "@contextmanager\n",
    "def simple_context_manager():\n",
    "    print(\"설정 작업 시작\")\n",
    "    yield\n",
    "    print(\"정리 작업 수행\")\n",
    "\n",
    "with simple_context_manager():\n",
    "    print(\"작업 수행 중...\")"
   ]
  },
  {
   "cell_type": "markdown",
   "metadata": {},
   "source": [
    "3. 파이썬 표준 라이브러리\n",
    "1) os모듈"
   ]
  },
  {
   "cell_type": "code",
   "execution_count": 19,
   "metadata": {},
   "outputs": [
    {
     "name": "stdout",
     "output_type": "stream",
     "text": [
      "현재 디렉터리:  ['example.txt', 'large_text_file.txt', 'main.ipynb']\n",
      "디렉터리 생성 후: ['example.txt', 'large_text_file.txt', 'main.ipynb', 'test_directory']\n",
      "디렉터리 이름 변경 후: ['example.txt', 'large_text_file.txt', 'main.ipynb', 'renamed_directory']\n",
      "디렉터리 삭제 후: ['example.txt', 'large_text_file.txt', 'main.ipynb']\n"
     ]
    }
   ],
   "source": [
    "import os\n",
    "\n",
    "# 현재 디렉터리의 파일 및 디렉터리 목록 출력\n",
    "print(\"현재 디렉터리: \", os.listdir('.'))\n",
    "\n",
    "# 새로운 디렉터리 생성\n",
    "os.mkdir('test_directory')\n",
    "print(\"디렉터리 생성 후:\", os.listdir('.'))\n",
    "\n",
    "# 디렉터리 이름 변경\n",
    "os.rename('test_directory', 'renamed_directory')\n",
    "print(\"디렉터리 이름 변경 후:\", os.listdir('.'))\n",
    "\n",
    "# 디렉터리 삭제\n",
    "os.rmdir('renamed_directory')\n",
    "print(\"디렉터리 삭제 후:\", os.listdir('.'))\n"
   ]
  },
  {
   "cell_type": "code",
   "execution_count": 22,
   "metadata": {},
   "outputs": [
    {
     "name": "stdout",
     "output_type": "stream",
     "text": [
      "현재 디렉터리:  ['example.txt', 'large_text_file.txt', 'main.ipynb']\n"
     ]
    }
   ],
   "source": [
    "# 현재 디렉터리의 파일 및 디렉터리 목록 출력\n",
    "print(\"현재 디렉터리: \", os.listdir())"
   ]
  },
  {
   "cell_type": "code",
   "execution_count": 24,
   "metadata": {},
   "outputs": [
    {
     "name": "stdout",
     "output_type": "stream",
     "text": [
      "합쳐진 경로: user/documents/file.txt\n",
      "디렉터리 이름: user/documents\n",
      "파일 이름: file.txt\n",
      "파일 존재 여부: False\n"
     ]
    }
   ],
   "source": [
    "# 경로 합치기\n",
    "path = os.path.join(\"user\", \"documents\", \"file.txt\")\n",
    "print(\"합쳐진 경로:\", path)\n",
    "\n",
    "# 경로와 파일명 분리\n",
    "dir_name, file_name = os.path.split(path) # 마지막 / 기준으로 디렉터리와 파일 구분\n",
    "print(\"디렉터리 이름:\", dir_name) # os.path.dirname\n",
    "print(\"파일 이름:\", file_name)    # os.path.basename\n",
    "\n",
    "# 파일의 존재 여부 확인\n",
    "print(\"파일 존재 여부:\", os.path.exists(path))"
   ]
  },
  {
   "cell_type": "code",
   "execution_count": 25,
   "metadata": {},
   "outputs": [
    {
     "name": "stdout",
     "output_type": "stream",
     "text": [
      "PATH 환경 변수:  /opt/anaconda3/envs/test1026/bin:/home/jiwon/.vscode-server/cli/servers/Stable-cd4ee3b1c348a13bafd8f9ad8060705f6d4b9cba/server/bin/remote-cli:/opt/anaconda3/envs/test1026/bin:/opt/anaconda3/condabin:/opt/anaconda3/bin:/usr/local/sbin:/usr/local/bin:/usr/sbin:/usr/bin:/sbin:/bin:/usr/games:/usr/local/games:/snap/bin\n",
      "새로운 환경 변수:  test_value\n"
     ]
    }
   ],
   "source": [
    "# 환경 변수 조회\n",
    "print(\"PATH 환경 변수: \", os.environ.get('PATH'))\n",
    "\n",
    "# 새로운 환경 변수 설정\n",
    "os.environ['MY_VARIABLE'] = 'test_value'\n",
    "print(\"새로운 환경 변수: \", os.environ.get('MY_VARIABLE'))"
   ]
  },
  {
   "cell_type": "code",
   "execution_count": 28,
   "metadata": {},
   "outputs": [
    {
     "name": "stdout",
     "output_type": "stream",
     "text": [
      "Hello, World!\n",
      "example.txt\n",
      "large_text_file.txt\n",
      "main.ipynb\n",
      "현재 프로세스 ID:  32259\n"
     ]
    }
   ],
   "source": [
    "#프로세스 제어\n",
    "#운영 체제 명령 실행 -> 쉘 명령어\n",
    "os.system(\"echo 'Hello, World!'\")\n",
    "os.system(\"ls\")\n",
    "\n",
    "#현재 프로세스 ID 출력\n",
    "print(\"현재 프로세스 ID: \", os.getpid())"
   ]
  },
  {
   "cell_type": "markdown",
   "metadata": {},
   "source": [
    "4. datetime 모듈"
   ]
  },
  {
   "cell_type": "code",
   "execution_count": 2,
   "metadata": {},
   "outputs": [
    {
     "name": "stdout",
     "output_type": "stream",
     "text": [
      "현재 날짜와 시간: 2025-01-20 15:16:19.424456\n"
     ]
    }
   ],
   "source": [
    "from datetime import datetime\n",
    "\n",
    "now = datetime.now()\n",
    "print(\"현재 날짜와 시간:\", now)"
   ]
  },
  {
   "cell_type": "code",
   "execution_count": 3,
   "metadata": {},
   "outputs": [
    {
     "name": "stdout",
     "output_type": "stream",
     "text": [
      "5일 후의 날짜: 2025-01-25 15:16:19.424456\n"
     ]
    }
   ],
   "source": [
    "from datetime import timedelta\n",
    "\n",
    "#현재 날짜로부터 5일 후의 날짜 계산\n",
    "future_date = now + timedelta(days=5)\n",
    "print(\"5일 후의 날짜:\", future_date)"
   ]
  },
  {
   "cell_type": "code",
   "execution_count": 4,
   "metadata": {},
   "outputs": [
    {
     "name": "stdout",
     "output_type": "stream",
     "text": [
      "포맷팅된 날짜와 시간: 2025-01-20 15:16:19\n",
      "변환된 날짜와 시간 객체: 2023-10-10 14:30:00\n"
     ]
    }
   ],
   "source": [
    "# 날짜와 시간 포맷팅\n",
    "formatted_date = now.strftime(\"%Y-%m-%d %H:%M:%S\")\n",
    "print(\"포맷팅된 날짜와 시간:\", formatted_date)\n",
    "\n",
    "# 문자열을 날짜와 시간 객체로 변환\n",
    "date_str = \"2023-10-10 14:30:00\"\n",
    "parsed_date = datetime.strptime(date_str, \"%Y-%m-%d %H:%M:%S\")\n",
    "print(\"변환된 날짜와 시간 객체:\", parsed_date)"
   ]
  },
  {
   "cell_type": "markdown",
   "metadata": {},
   "source": [
    "5. collection 모듈"
   ]
  },
  {
   "cell_type": "code",
   "execution_count": 6,
   "metadata": {},
   "outputs": [
    {
     "name": "stdout",
     "output_type": "stream",
     "text": [
      "deque: deque([0, 1, 2, 3, 4, 5, 6])\n",
      "deque: deque([1, 2, 3, 4, 5])\n"
     ]
    }
   ],
   "source": [
    "from collections import deque\n",
    "\n",
    "d = deque([1, 2, 3, 4, 5])\n",
    "d.append(6)  # 오른쪽에 요소 추가\n",
    "d.appendleft(0)  # 왼쪽에 요소 추가\n",
    "print(\"deque:\", d)\n",
    "\n",
    "d.pop()  # 오른쪽 요소 제거\n",
    "d.popleft()  # 왼쪽 요소 제거\n",
    "print(\"deque:\", d)"
   ]
  },
  {
   "cell_type": "code",
   "execution_count": 1,
   "metadata": {},
   "outputs": [
    {
     "name": "stdout",
     "output_type": "stream",
     "text": [
      "문자 개수: Counter({'l': 3, 'o': 2, 'h': 1, 'e': 1, ' ': 1, 'w': 1, 'r': 1, 'd': 1})\n"
     ]
    }
   ],
   "source": [
    "from collections import Counter\n",
    "\n",
    "word_count = Counter(\"hello world\")\n",
    "print(\"문자 개수:\", word_count)  # 각 문자의 빈도 출력"
   ]
  },
  {
   "cell_type": "code",
   "execution_count": 4,
   "metadata": {},
   "outputs": [
    {
     "name": "stdout",
     "output_type": "stream",
     "text": [
      "defaultdict: defaultdict(<class 'int'>, {})\n",
      "defaultdict: defaultdict(<class 'int'>, {'a': 1})\n"
     ]
    }
   ],
   "source": [
    "from collections import defaultdict\n",
    "\n",
    "dd = defaultdict(int)\n",
    "print(\"defaultdict:\", dd) #키가 존재하지 않을 때 자동으로 기본값 생성\n",
    "dd[\"a\"] += 1\n",
    "print(\"defaultdict:\", dd)"
   ]
  },
  {
   "cell_type": "code",
   "execution_count": 5,
   "metadata": {},
   "outputs": [
    {
     "name": "stdout",
     "output_type": "stream",
     "text": [
      "OrderedDict: OrderedDict([('first', 1), ('second', 2), ('third', 3)])\n"
     ]
    }
   ],
   "source": [
    "from collections import OrderedDict\n",
    "\n",
    "od = OrderedDict()\n",
    "od[\"first\"] = 1\n",
    "od[\"second\"] = 2\n",
    "od[\"third\"] = 3\n",
    "print(\"OrderedDict:\", od)"
   ]
  },
  {
   "cell_type": "markdown",
   "metadata": {},
   "source": [
    "4. 정규 표현식"
   ]
  },
  {
   "cell_type": "code",
   "execution_count": 8,
   "metadata": {},
   "outputs": [
    {
     "name": "stdout",
     "output_type": "stream",
     "text": [
      "['010-1234-5678', '02-987-6543']\n"
     ]
    }
   ],
   "source": [
    "import re\n",
    "# 전화번호 패턴 찾기\n",
    "phone_pattern = re.compile(r\"\\d{2,3}-\\d{3,4}-\\d{4}\") #\"\\\\d{2,3}-\\\\d{3,4}-\\\\d{4}\"\n",
    "text = \"Phone number: 010-1234-5678, 02-987-6543\"\n",
    "result = phone_pattern.findall(text)\n",
    "print(result)"
   ]
  },
  {
   "cell_type": "code",
   "execution_count": 16,
   "metadata": {},
   "outputs": [
    {
     "name": "stdout",
     "output_type": "stream",
     "text": [
      "support@example.com\n"
     ]
    }
   ],
   "source": [
    "#이메일 주소 패턴 찾기\n",
    "email_pattern = re.compile(r\"[a-zA-Z0-9._%+-]+@[a-zA-Z0-9.-]+\\.[a-zA-Z]{2,}\")\n",
    "email_text = \"Please contact us at support@example.com for more information.\"\n",
    "result = email_pattern.search(email_text)\n",
    "print(result.group())  # support@example.com"
   ]
  },
  {
   "cell_type": "code",
   "execution_count": 29,
   "metadata": {},
   "outputs": [
    {
     "name": "stdout",
     "output_type": "stream",
     "text": [
      "TitleHello, World!\n"
     ]
    }
   ],
   "source": [
    "# HTML 태그 제거하기\n",
    "html = \"<html><head><title>Title</title></head><body>Hello, World!</body></html>\"\n",
    "tag_pattern = re.compile(r\"<.*?>\")  # HTML 태그에 일치하는 패턴 <모든 문자열 >\n",
    "result = tag_pattern.sub(\"\", html)  # HTML 태그를 빈 문자열로 치환\n",
    "print(result)  # TitleHello, World"
   ]
  },
  {
   "cell_type": "code",
   "execution_count": 34,
   "metadata": {},
   "outputs": [
    {
     "name": "stdout",
     "output_type": "stream",
     "text": [
      "['easy', 'learn', 'very']\n"
     ]
    }
   ],
   "source": [
    "#특정 패턴의 단어 찾기\n",
    "text = \"Python is easy to learn, and it's very powerful.\"\n",
    "word_pattern = re.compile(r\"\\b\\w{4,5}\\b\")  # 4~5글자 단어 찾기\n",
    "result = word_pattern.findall(text)\n",
    "print(result)  # ['easy', 'learn', 'very']"
   ]
  },
  {
   "cell_type": "markdown",
   "metadata": {},
   "source": [
    "Jan_21 6. 예외 처리 및 사용자 정의 예외"
   ]
  },
  {
   "cell_type": "code",
   "execution_count": 9,
   "metadata": {},
   "outputs": [
    {
     "name": "stdout",
     "output_type": "stream",
     "text": [
      "숫자가 아닙니다.\n",
      "예외 처리 완료\n"
     ]
    }
   ],
   "source": [
    "try:\n",
    "    x = int(\"abc\") # ValueError\n",
    "    #result = 10 / 0  # ZeroDivisionError 발생\n",
    "except ZeroDivisionError:\n",
    "    print(\"0으로 나눌 수 없습니다.\")\n",
    "except ValueError:\n",
    "    print(\"숫자가 아닙니다.\")\n",
    "else:\n",
    "    print(\"예외가 발생하지 않았습니다.\")\n",
    "finally:\n",
    "    print(\"예외 처리 완료\")"
   ]
  },
  {
   "cell_type": "code",
   "execution_count": 12,
   "metadata": {},
   "outputs": [
    {
     "ename": "SyntaxError",
     "evalue": "invalid syntax (1727613499.py, line 5)",
     "output_type": "error",
     "traceback": [
      "\u001b[0;36m  Cell \u001b[0;32mIn[12], line 5\u001b[0;36m\u001b[0m\n\u001b[0;31m    Error(\"타입 오류 발생\") from e\u001b[0m\n\u001b[0m                      ^\u001b[0m\n\u001b[0;31mSyntaxError\u001b[0m\u001b[0;31m:\u001b[0m invalid syntax\n"
     ]
    }
   ],
   "source": [
    "# 예외 체이닝(raise와 from): 기존 예외를 감싸서 새로운 예외를 발생시키는 기법\n",
    "try:\n",
    "    raise ValueError(\"잘못된 값\")\n",
    "except ValueError as e:\n",
    "    raise Type\n",
    "\n",
    "Error(\"타입 오류 발생\") from e"
   ]
  },
  {
   "cell_type": "markdown",
   "metadata": {},
   "source": [
    "7. 파일 및 디렉터리 처리 고급 기능"
   ]
  },
  {
   "cell_type": "code",
   "execution_count": 13,
   "metadata": {},
   "outputs": [
    {
     "name": "stdout",
     "output_type": "stream",
     "text": [
      "파일 경로: documents/example.txt\n",
      "절대 경로: /home/jiwon/project/python/ch5/documents/example.txt\n",
      "파일 존재 여부: False\n",
      "파일명과 확장자: ('documents/example', '.txt')\n"
     ]
    }
   ],
   "source": [
    "import os\n",
    "\n",
    "file_path = os.path.join(\"documents\", \"example.txt\")  # 경로 합치기\n",
    "print(\"파일 경로:\", file_path)  # 출력: documents/example.txt\n",
    "print(\"절대 경로:\", os.path.abspath(file_path))  # 출력: C:/Users/.../documents/example.txt\n",
    "print(\"파일 존재 여부:\", os.path.exists(file_path))  # 파일이 존재하는지 확인\n",
    "print(\"파일명과 확장자:\", os.path.splitext(file_path))  # ('documents/example', '.txt')"
   ]
  },
  {
   "cell_type": "code",
   "execution_count": 22,
   "metadata": {},
   "outputs": [
    {
     "name": "stdout",
     "output_type": "stream",
     "text": [
      "파일명: example.txt\n",
      "확장자: .txt\n",
      "상위 디렉터리: documents\n",
      "파일 존재 여부: False\n"
     ]
    }
   ],
   "source": [
    "from pathlib import Path\n",
    "\n",
    "path = Path(\"documents/example.txt\")\n",
    "print(\"파일명:\", path.name)  # 출력: example.txt\n",
    "print(\"확장자:\", path.suffix)  # 출력: .txt\n",
    "print(\"상위 디렉터리:\", path.parent)  # 출력: documents\n",
    "print(\"파일 존재 여부:\", path.exists())  # 파일 존재 여부 확인\n",
    "\n",
    "path = Path(\"new_pathlib_directory\")\n",
    "path.mkdir()\n",
    "path.rmdir()"
   ]
  },
  {
   "cell_type": "code",
   "execution_count": 28,
   "metadata": {},
   "outputs": [
    {
     "name": "stdout",
     "output_type": "stream",
     "text": [
      "Hello, World!\n"
     ]
    }
   ],
   "source": [
    "#텍스트 파일 쓰기\n",
    "with open(\"example.txt\", \"w\") as file:\n",
    "    file.write(\"Hello, World!\")\n",
    "    \n",
    "# 텍스트 파일 읽기\n",
    "with open(\"example.txt\", \"r\") as file:\n",
    "    content = file.read()\n",
    "    print(content)\n",
    "    \n",
    "# 바이너리 파일 읽기\n",
    "with open(\"example.bin\", \"wb\") as file:\n",
    "    file.write(b\"\\\\x01\\\\x02\\\\x03\") #바이너리 데이터 쓰기\n",
    "\n",
    "# 읽기/쓰기 모드 사용\n",
    "with open(\"example.txt\", \"r+\") as file:\n",
    "    file.write(\"Hello, Python!\") # 기존 내용을 덮어쓰고 파일 끝까지 쓰기"
   ]
  },
  {
   "cell_type": "code",
   "execution_count": 30,
   "metadata": {},
   "outputs": [
    {
     "name": "stdout",
     "output_type": "stream",
     "text": [
      "['첫 번째 줄\\n', '두 번째 줄\\n', '세 번째 줄\\n']\n",
      "0\n"
     ]
    }
   ],
   "source": [
    "with open(\"example1.txt\", \"w\") as file:\n",
    "    file.writelines([\"첫 번째 줄\\n\", \"두 번째 줄\\n\", \"세 번째 줄\\n\"])\n",
    "        # 문자열 리스트를 파일에 쓴다.\n",
    "with open(\"example1.txt\", \"r\") as file:\n",
    "    lines = file.readlines()   # 모든 줄을 리스트로 반환\n",
    "    print(lines)\n",
    "    file.seek(0) # 파일의 시작 위치로 이동\n",
    "    print(file.tell()) # 파일 내 현재 위치 반환"
   ]
  },
  {
   "cell_type": "code",
   "execution_count": 31,
   "metadata": {},
   "outputs": [
    {
     "name": "stdout",
     "output_type": "stream",
     "text": [
      "파일 크기:  14\n",
      "마지막 수정 시간:  1737425599.0146906\n",
      "파일 크기:  14\n",
      "마지막 접근 시간:  1737425604.9059057\n"
     ]
    }
   ],
   "source": [
    "file_path = \"example.txt\"\n",
    "\n",
    "file_stat = os.stat(file_path) #os.stat : 파일의 메타데이터 정보 확인\n",
    "print(\"파일 크기: \", file_stat.st_size)\n",
    "print(\"마지막 수정 시간: \", file_stat.st_mtime)\n",
    "\n",
    "path = Path(file_path)\n",
    "print(\"파일 크기: \", path.stat().st_size)\n",
    "print(\"마지막 접근 시간: \", path.stat().st_atime)\n"
   ]
  },
  {
   "cell_type": "code",
   "execution_count": 32,
   "metadata": {},
   "outputs": [
    {
     "name": "stdout",
     "output_type": "stream",
     "text": [
      "파일에 쓰기 권한이 없습니다.\n"
     ]
    }
   ],
   "source": [
    "os.chmod(file_path, 0o444) # 읽기 전용 권한 설정(4:읽기, 2:쓰기, 1:실행)\n",
    "                           # 소유자, 그룹, 다른 유저     \n",
    "if os.access(file_path, os.W_OK):\n",
    "    print(\"파일에 쓰기 권한이 있습니다.\")\n",
    "else:\n",
    "    print(\"파일에 쓰기 권한이 없습니다.\")"
   ]
  },
  {
   "cell_type": "code",
   "execution_count": 33,
   "metadata": {},
   "outputs": [
    {
     "name": "stdout",
     "output_type": "stream",
     "text": [
      "절대 경로: /home/jiwon/project/python/ch5/example.txt\n",
      "심볼릭 링크 여부: False\n"
     ]
    }
   ],
   "source": [
    "print(\"절대 경로:\", os.path.abspath(file_path))\n",
    "print(\"심볼릭 링크 여부:\", os.path.islink(file_path))"
   ]
  },
  {
   "cell_type": "code",
   "execution_count": 34,
   "metadata": {},
   "outputs": [
    {
     "name": "stdout",
     "output_type": "stream",
     "text": [
      "5\n",
      "5\n"
     ]
    }
   ],
   "source": [
    "def add(x, y):\n",
    "    return x + y\n",
    "\n",
    "add_lambda = lambda x, y: x + y\n",
    "\n",
    "print(add(2, 3))\n",
    "print(add_lambda(2, 3))"
   ]
  },
  {
   "cell_type": "code",
   "execution_count": 44,
   "metadata": {},
   "outputs": [
    {
     "name": "stdout",
     "output_type": "stream",
     "text": [
      "[1, 4, 9, 16, 25]\n"
     ]
    }
   ],
   "source": [
    "number = [1, 2, 3, 4, 5]\n",
    "squared = list(map(lambda x: x**2, number))\n",
    "print(squared)"
   ]
  },
  {
   "cell_type": "code",
   "execution_count": 41,
   "metadata": {},
   "outputs": [
    {
     "name": "stdout",
     "output_type": "stream",
     "text": [
      "[2, 4]\n"
     ]
    }
   ],
   "source": [
    "even_numbers = list(filter(lambda x: x % 2 == 0, number))\n",
    "print(even_numbers)"
   ]
  },
  {
   "cell_type": "code",
   "execution_count": 47,
   "metadata": {},
   "outputs": [
    {
     "name": "stdout",
     "output_type": "stream",
     "text": [
      "15\n"
     ]
    }
   ],
   "source": [
    "from functools import reduce\n",
    "\n",
    "sum_of_numbers = reduce(lambda x, y: x + y, number)  # 리스트의 모든 요소의 합 계산\n",
    "print(sum_of_numbers)  # 15"
   ]
  },
  {
   "cell_type": "code",
   "execution_count": 4,
   "metadata": {},
   "outputs": [
    {
     "name": "stdout",
     "output_type": "stream",
     "text": [
      "16\n",
      "16\n"
     ]
    }
   ],
   "source": [
    "#합성 함수\n",
    "def multiply_by_2(x):\n",
    "    return x * 2\n",
    "\n",
    "def add_3(x):\n",
    "    return x + 3\n",
    "\n",
    "def compose(f, g):\n",
    "    return lambda x: f(g(x))\n",
    "\n",
    "def not_compose(x):\n",
    "    result = add_3(x)\n",
    "    return multiply_by_2(result)\n",
    "\n",
    "composed_function = compose(multiply_by_2, add_3)\n",
    "print(composed_function(5))  # (5 + 3) * 2 = 16\n",
    "print(not_compose(5))"
   ]
  },
  {
   "cell_type": "code",
   "execution_count": null,
   "metadata": {},
   "outputs": [
    {
     "name": "stdout",
     "output_type": "stream",
     "text": [
      "         4 function calls in 3.130 seconds\n",
      "\n",
      "   Ordered by: standard name\n",
      "\n",
      "   ncalls  tottime  percall  cumtime  percall filename:lineno(function)\n",
      "        1    3.130    3.130    3.130    3.130 1902314568.py:3(slow_function)\n",
      "        1    0.000    0.000    3.130    3.130 <string>:1(<module>)\n",
      "        1    0.000    0.000    3.130    3.130 {built-in method builtins.exec}\n",
      "        1    0.000    0.000    0.000    0.000 {method 'disable' of '_lsprof.Profiler' objects}\n",
      "\n",
      "\n",
      "Tue Jan 21 14:18:44 2025    profiling_result.prof\n",
      "\n",
      "         4 function calls in 2.996 seconds\n",
      "\n",
      "   Ordered by: cumulative time\n",
      "\n",
      "   ncalls  tottime  percall  cumtime  percall filename:lineno(function)\n",
      "        1    0.000    0.000    2.996    2.996 {built-in method builtins.exec}\n",
      "        1    0.000    0.000    2.996    2.996 <string>:1(<module>)\n",
      "        1    2.996    2.996    2.996    2.996 1902314568.py:3(slow_function)\n",
      "        1    0.000    0.000    0.000    0.000 {method 'disable' of '_lsprof.Profiler' objects}\n",
      "\n",
      "\n"
     ]
    },
    {
     "data": {
      "text/plain": [
       "<pstats.Stats at 0x78c41eb4a260>"
      ]
     },
     "execution_count": 6,
     "metadata": {},
     "output_type": "execute_result"
    }
   ],
   "source": [
    "import cProfile # 애플리케이션의 성능을 분석하고, 코드의 병목 지점을 찾아 최적화할 수 있는 도구\n",
    "\n",
    "def slow_function():\n",
    "    total = 0\n",
    "    for i in range(10000):\n",
    "        for j in range(10000):\n",
    "            total += i + j\n",
    "    return total\n",
    "\n",
    "cProfile.run('slow_function()')  # slow_function()의 성능 분석\n",
    "\n",
    "import pstats\n",
    "\n",
    "# 성능 분석 결과를 파일로 저장\n",
    "cProfile.run('slow_function()', 'profiling_result.prof')\n",
    "\n",
    "# 저장된 결과 파일을 로드하여 분석\n",
    "profiler = pstats.Stats('profiling_result.prof')\n",
    "profiler.strip_dirs().sort_stats('cumulative').print_stats(10)"
   ]
  },
  {
   "cell_type": "code",
   "execution_count": 7,
   "metadata": {},
   "outputs": [
    {
     "name": "stderr",
     "output_type": "stream",
     "text": [
      "2278.19s - pydevd: Sending message related to process being replaced timed-out after 5 seconds\n"
     ]
    },
    {
     "name": "stdout",
     "output_type": "stream",
     "text": [
      "Collecting snakeviz\n",
      "  Downloading snakeviz-2.2.2-py3-none-any.whl.metadata (3.6 kB)\n",
      "Requirement already satisfied: tornado>=2.0 in /opt/anaconda3/envs/test1026/lib/python3.10/site-packages (from snakeviz) (6.4.2)\n",
      "Downloading snakeviz-2.2.2-py3-none-any.whl (183 kB)\n",
      "Installing collected packages: snakeviz\n",
      "Successfully installed snakeviz-2.2.2\n",
      "Note: you may need to restart the kernel to use updated packages.\n"
     ]
    }
   ],
   "source": [
    "# snakeviz 설치\n",
    "%pip install snakeviz"
   ]
  },
  {
   "cell_type": "code",
   "execution_count": 9,
   "metadata": {},
   "outputs": [
    {
     "name": "stderr",
     "output_type": "stream",
     "text": [
      "2328.66s - pydevd: Sending message related to process being replaced timed-out after 5 seconds\n"
     ]
    },
    {
     "name": "stdout",
     "output_type": "stream",
     "text": [
      "snakeviz web server started on 127.0.0.1:8080; enter Ctrl-C to exit\n",
      "http://127.0.0.1:8080/snakeviz/%2Fhome%2Fjiwon%2Fproject%2Fpython%2Fch5%2Fprofiling_result.prof\n",
      "^C\n",
      "\n",
      "Bye!\n"
     ]
    }
   ],
   "source": [
    "# 프로파일링 결과 시각화\n",
    "!snakeviz profiling_result.prof"
   ]
  },
  {
   "cell_type": "markdown",
   "metadata": {},
   "source": [
    "10. 타입 힌팅(Type Hinting) 및 PEP8 코딩 스타일"
   ]
  },
  {
   "cell_type": "code",
   "execution_count": 12,
   "metadata": {},
   "outputs": [
    {
     "name": "stdout",
     "output_type": "stream",
     "text": [
      "12.0\n"
     ]
    }
   ],
   "source": [
    "def add_numbers(a: int, b: int) -> int:\n",
    "    return a + b\n",
    "\n",
    "print(add_numbers(5.0, 7))  # 12"
   ]
  },
  {
   "cell_type": "code",
   "execution_count": 13,
   "metadata": {},
   "outputs": [
    {
     "name": "stdout",
     "output_type": "stream",
     "text": [
      "{'apple': 5, 'banana': 3, 'cherry': 8}\n"
     ]
    }
   ],
   "source": [
    "from typing import List, Dict, Tuple\n",
    "\n",
    "def process_data(data: List[Tuple[str, int]]) -> Dict[str, int]:\n",
    "    result = {}\n",
    "    for name, value in data:\n",
    "        result[name] = value\n",
    "    return result\n",
    "\n",
    "data_list = [(\"apple\", 5), (\"banana\", 3), (\"cherry\", 8)]\n",
    "print(process_data(data_list))  # {'apple': 5, 'banana': 3, 'cherry': 8}"
   ]
  },
  {
   "cell_type": "code",
   "execution_count": 15,
   "metadata": {},
   "outputs": [],
   "source": [
    "from typing import Optional, Union\n",
    "\n",
    "def get_user_name(user_id: Optional[int]) -> Union[str, None]:\n",
    "    if user_id:\n",
    "        return \"User Name\"\n",
    "    return None"
   ]
  },
  {
   "cell_type": "markdown",
   "metadata": {},
   "source": [
    "11. 데이터 직렬화 및 역직렬화"
   ]
  },
  {
   "cell_type": "code",
   "execution_count": 16,
   "metadata": {},
   "outputs": [
    {
     "name": "stdout",
     "output_type": "stream",
     "text": [
      "{'name': 'Alice', 'age': 25, 'is_student': True}\n"
     ]
    }
   ],
   "source": [
    "import pickle\n",
    "\n",
    "#데이터 직렬화\n",
    "data = {'name': 'Alice', 'age': 25, 'is_student': True}\n",
    "with open('data.pkl', 'wb') as file: # 'wb'모드: 바이너리 쓰기 모드\n",
    "    pickle.dump(data, file) # 데이터 직렬화 및 파일에 저장\n",
    "    \n",
    "with open('data.pkl', 'rb') as file: # 'rb' 모드: 바이너리 읽기 모드\n",
    "    loaded_data = pickle.load(file) #파일로부터 데이터 복원\n",
    "print(loaded_data)"
   ]
  },
  {
   "cell_type": "code",
   "execution_count": 18,
   "metadata": {},
   "outputs": [
    {
     "name": "stdout",
     "output_type": "stream",
     "text": [
      "{'name': 'Alice', 'age': 25, 'is_student': True}\n"
     ]
    }
   ],
   "source": [
    "serialized_data = pickle.dumps(data)\n",
    "restored_data = pickle.loads(serialized_data)\n",
    "print(restored_data)"
   ]
  },
  {
   "cell_type": "code",
   "execution_count": 19,
   "metadata": {},
   "outputs": [
    {
     "name": "stdout",
     "output_type": "stream",
     "text": [
      "{'name': 'Bob', 'age': 30, 'is_student': False}\n"
     ]
    }
   ],
   "source": [
    "import json\n",
    "\n",
    "data = {'name': 'Bob', 'age': 30, 'is_student': False}\n",
    "\n",
    "# JSON 파일에 데이터 저장\n",
    "with open('data.json', 'w') as file:\n",
    "    json.dump(data, file) #데이터를 json 형식으로 파일에 저장\n",
    "\n",
    "# JSON 파일로부터 데이터 읽어오기\n",
    "with open('data.json', 'r') as file:\n",
    "    loaded_data = json.load(file) # 파일로부터 JSON 데이터를 읽어 파이썬 객체로 복원\n",
    "print(loaded_data)"
   ]
  },
  {
   "cell_type": "code",
   "execution_count": 20,
   "metadata": {},
   "outputs": [
    {
     "name": "stdout",
     "output_type": "stream",
     "text": [
      "{\n",
      "    \"name\": \"Bob\",\n",
      "    \"age\": 30,\n",
      "    \"is_student\": false\n",
      "}\n",
      "{'name': 'Bob', 'age': 30, 'is_student': False}\n"
     ]
    }
   ],
   "source": [
    "json_str = json.dumps(data, indent = 4) # 데이터를 JSON 문자열로 변환 (들여쓰기 4칸)\n",
    "print(json_str)\n",
    "\n",
    "restored_data = json.loads(json_str)\n",
    "print(restored_data)"
   ]
  },
  {
   "cell_type": "code",
   "execution_count": 21,
   "metadata": {},
   "outputs": [
    {
     "name": "stdout",
     "output_type": "stream",
     "text": [
      "{\"name\": \"Alice\", \"age\": 28}\n"
     ]
    }
   ],
   "source": [
    "class CustomData:\n",
    "    def __init__(self, name, age):\n",
    "        self.name = name\n",
    "        self.age = age\n",
    "\n",
    "# 커스텀 객체를 JSON으로 직렬화하기 위한 함수 정의\n",
    "def custom_encoder(obj):\n",
    "    if isinstance(obj, CustomData):\n",
    "        return {'name': obj.name, 'age': obj.age}\n",
    "    raise TypeError(\"Type not serializable\")\n",
    "\n",
    "custom_data = CustomData('Alice', 28)\n",
    "json_str = json.dumps(custom_data, default=custom_encoder)\n",
    "print(json_str)  # {\"name\": \"Alice\", \"age\": 28}"
   ]
  },
  {
   "cell_type": "code",
   "execution_count": 28,
   "metadata": {},
   "outputs": [
    {
     "name": "stderr",
     "output_type": "stream",
     "text": [
      "7552.22s - pydevd: Sending message related to process being replaced timed-out after 5 seconds\n"
     ]
    },
    {
     "name": "stdout",
     "output_type": "stream",
     "text": [
      "Collecting pyyaml\n",
      "  Downloading PyYAML-6.0.2-cp310-cp310-manylinux_2_17_x86_64.manylinux2014_x86_64.whl.metadata (2.1 kB)\n",
      "Downloading PyYAML-6.0.2-cp310-cp310-manylinux_2_17_x86_64.manylinux2014_x86_64.whl (751 kB)\n",
      "\u001b[2K   \u001b[90m━━━━━━━━━━━━━━━━━━━━━━━━━━━━━━━━━━━━━━━━\u001b[0m \u001b[32m751.2/751.2 kB\u001b[0m \u001b[31m8.2 MB/s\u001b[0m eta \u001b[36m0:00:00\u001b[0m\n",
      "\u001b[?25hInstalling collected packages: pyyaml\n",
      "Successfully installed pyyaml-6.0.2\n",
      "Note: you may need to restart the kernel to use updated packages.\n"
     ]
    }
   ],
   "source": [
    "pip install pyyaml"
   ]
  },
  {
   "cell_type": "code",
   "execution_count": 29,
   "metadata": {},
   "outputs": [
    {
     "name": "stdout",
     "output_type": "stream",
     "text": [
      "{'age': 35, 'is_student': False, 'name': 'Charlie'}\n"
     ]
    }
   ],
   "source": [
    "import yaml\n",
    "\n",
    "data = {'name': 'Charlie', 'age': 35, 'is_student': False}\n",
    "\n",
    "# YAML 파일에 데이터 저장\n",
    "with open('data.yaml', 'w') as file:\n",
    "    yaml.dump(data, file, default_flow_style=False)\n",
    "\n",
    "# YAML 파일로부터 데이터 읽어오기\n",
    "with open('data.yaml', 'r') as file:\n",
    "    loaded_data = yaml.load(file, Loader=yaml.FullLoader)\n",
    "print(loaded_data)  # {'name': 'Charlie', 'age': 35, 'is_student': False}"
   ]
  },
  {
   "cell_type": "code",
   "execution_count": 31,
   "metadata": {},
   "outputs": [
    {
     "name": "stdout",
     "output_type": "stream",
     "text": [
      "age: 35\n",
      "is_student: false\n",
      "name: Charlie\n",
      "\n",
      "{'age': 35, 'is_student': False, 'name': 'Charlie'}\n"
     ]
    }
   ],
   "source": [
    "yaml_str = yaml.dump(data, default_flow_style=False)\n",
    "print(yaml_str)\n",
    "# name: Charlie\n",
    "# age: 35\n",
    "# is_student: false\n",
    "\n",
    "restored_data = yaml.load(yaml_str, Loader=yaml.FullLoader)\n",
    "print(restored_data)  # {'name': 'Charlie', 'age': 35, 'is_student': False}"
   ]
  },
  {
   "cell_type": "code",
   "execution_count": 32,
   "metadata": {},
   "outputs": [
    {
     "name": "stdout",
     "output_type": "stream",
     "text": [
      "{'age': 35, 'is_student': False, 'name': 'Charlie'}\n"
     ]
    }
   ],
   "source": [
    "# 보안이 강화된 safe_load 사용\n",
    "safe_data = yaml.safe_load(yaml_str)\n",
    "print(safe_data)  # {'name': 'Charlie', 'age': 35, 'is_student': False}"
   ]
  },
  {
   "cell_type": "markdown",
   "metadata": {},
   "source": [
    "12. 네트워크 프로그래밍"
   ]
  },
  {
   "cell_type": "code",
   "execution_count": 1,
   "metadata": {},
   "outputs": [
    {
     "name": "stdout",
     "output_type": "stream",
     "text": [
      "200\n",
      "[{'userId': 1, 'id': 1, 'title': 'sunt aut facere repellat provident occaecati excepturi optio reprehenderit', 'body': 'quia et suscipit\\nsuscipit recusandae consequuntur expedita et cum\\nreprehenderit molestiae ut ut quas totam\\nnostrum rerum est autem sunt rem eveniet architecto'}, {'userId': 1, 'id': 2, 'title': 'qui est esse', 'body': 'est rerum tempore vitae\\nsequi sint nihil reprehenderit dolor beatae ea dolores neque\\nfugiat blanditiis voluptate porro vel nihil molestiae ut reiciendis\\nqui aperiam non debitis possimus qui neque nisi nulla'}, {'userId': 1, 'id': 3, 'title': 'ea molestias quasi exercitationem repellat qui ipsa sit aut', 'body': 'et iusto sed quo iure\\nvoluptatem occaecati omnis eligendi aut ad\\nvoluptatem doloribus vel accusantium quis pariatur\\nmolestiae porro eius odio et labore et velit aut'}, {'userId': 1, 'id': 4, 'title': 'eum et est occaecati', 'body': 'ullam et saepe reiciendis voluptatem adipisci\\nsit amet autem assumenda provident rerum culpa\\nquis hic commodi nesciunt rem tenetur doloremque ipsam iure\\nquis sunt voluptatem rerum illo velit'}, {'userId': 1, 'id': 5, 'title': 'nesciunt quas odio', 'body': 'repudiandae veniam quaerat sunt sed\\nalias aut fugiat sit autem sed est\\nvoluptatem omnis possimus esse voluptatibus quis\\nest aut tenetur dolor neque'}, {'userId': 1, 'id': 6, 'title': 'dolorem eum magni eos aperiam quia', 'body': 'ut aspernatur corporis harum nihil quis provident sequi\\nmollitia nobis aliquid molestiae\\nperspiciatis et ea nemo ab reprehenderit accusantium quas\\nvoluptate dolores velit et doloremque molestiae'}, {'userId': 1, 'id': 7, 'title': 'magnam facilis autem', 'body': 'dolore placeat quibusdam ea quo vitae\\nmagni quis enim qui quis quo nemo aut saepe\\nquidem repellat excepturi ut quia\\nsunt ut sequi eos ea sed quas'}, {'userId': 1, 'id': 8, 'title': 'dolorem dolore est ipsam', 'body': 'dignissimos aperiam dolorem qui eum\\nfacilis quibusdam animi sint suscipit qui sint possimus cum\\nquaerat magni maiores excepturi\\nipsam ut commodi dolor voluptatum modi aut vitae'}, {'userId': 1, 'id': 9, 'title': 'nesciunt iure omnis dolorem tempora et accusantium', 'body': 'consectetur animi nesciunt iure dolore\\nenim quia ad\\nveniam autem ut quam aut nobis\\net est aut quod aut provident voluptas autem voluptas'}, {'userId': 1, 'id': 10, 'title': 'optio molestias id quia eum', 'body': 'quo et expedita modi cum officia vel magni\\ndoloribus qui repudiandae\\nvero nisi sit\\nquos veniam quod sed accusamus veritatis error'}, {'userId': 2, 'id': 11, 'title': 'et ea vero quia laudantium autem', 'body': 'delectus reiciendis molestiae occaecati non minima eveniet qui voluptatibus\\naccusamus in eum beatae sit\\nvel qui neque voluptates ut commodi qui incidunt\\nut animi commodi'}, {'userId': 2, 'id': 12, 'title': 'in quibusdam tempore odit est dolorem', 'body': 'itaque id aut magnam\\npraesentium quia et ea odit et ea voluptas et\\nsapiente quia nihil amet occaecati quia id voluptatem\\nincidunt ea est distinctio odio'}, {'userId': 2, 'id': 13, 'title': 'dolorum ut in voluptas mollitia et saepe quo animi', 'body': 'aut dicta possimus sint mollitia voluptas commodi quo doloremque\\niste corrupti reiciendis voluptatem eius rerum\\nsit cumque quod eligendi laborum minima\\nperferendis recusandae assumenda consectetur porro architecto ipsum ipsam'}, {'userId': 2, 'id': 14, 'title': 'voluptatem eligendi optio', 'body': 'fuga et accusamus dolorum perferendis illo voluptas\\nnon doloremque neque facere\\nad qui dolorum molestiae beatae\\nsed aut voluptas totam sit illum'}, {'userId': 2, 'id': 15, 'title': 'eveniet quod temporibus', 'body': 'reprehenderit quos placeat\\nvelit minima officia dolores impedit repudiandae molestiae nam\\nvoluptas recusandae quis delectus\\nofficiis harum fugiat vitae'}, {'userId': 2, 'id': 16, 'title': 'sint suscipit perspiciatis velit dolorum rerum ipsa laboriosam odio', 'body': 'suscipit nam nisi quo aperiam aut\\nasperiores eos fugit maiores voluptatibus quia\\nvoluptatem quis ullam qui in alias quia est\\nconsequatur magni mollitia accusamus ea nisi voluptate dicta'}, {'userId': 2, 'id': 17, 'title': 'fugit voluptas sed molestias voluptatem provident', 'body': 'eos voluptas et aut odit natus earum\\naspernatur fuga molestiae ullam\\ndeserunt ratione qui eos\\nqui nihil ratione nemo velit ut aut id quo'}, {'userId': 2, 'id': 18, 'title': 'voluptate et itaque vero tempora molestiae', 'body': 'eveniet quo quis\\nlaborum totam consequatur non dolor\\nut et est repudiandae\\nest voluptatem vel debitis et magnam'}, {'userId': 2, 'id': 19, 'title': 'adipisci placeat illum aut reiciendis qui', 'body': 'illum quis cupiditate provident sit magnam\\nea sed aut omnis\\nveniam maiores ullam consequatur atque\\nadipisci quo iste expedita sit quos voluptas'}, {'userId': 2, 'id': 20, 'title': 'doloribus ad provident suscipit at', 'body': 'qui consequuntur ducimus possimus quisquam amet similique\\nsuscipit porro ipsam amet\\neos veritatis officiis exercitationem vel fugit aut necessitatibus totam\\nomnis rerum consequatur expedita quidem cumque explicabo'}, {'userId': 3, 'id': 21, 'title': 'asperiores ea ipsam voluptatibus modi minima quia sint', 'body': 'repellat aliquid praesentium dolorem quo\\nsed totam minus non itaque\\nnihil labore molestiae sunt dolor eveniet hic recusandae veniam\\ntempora et tenetur expedita sunt'}, {'userId': 3, 'id': 22, 'title': 'dolor sint quo a velit explicabo quia nam', 'body': 'eos qui et ipsum ipsam suscipit aut\\nsed omnis non odio\\nexpedita earum mollitia molestiae aut atque rem suscipit\\nnam impedit esse'}, {'userId': 3, 'id': 23, 'title': 'maxime id vitae nihil numquam', 'body': 'veritatis unde neque eligendi\\nquae quod architecto quo neque vitae\\nest illo sit tempora doloremque fugit quod\\net et vel beatae sequi ullam sed tenetur perspiciatis'}, {'userId': 3, 'id': 24, 'title': 'autem hic labore sunt dolores incidunt', 'body': 'enim et ex nulla\\nomnis voluptas quia qui\\nvoluptatem consequatur numquam aliquam sunt\\ntotam recusandae id dignissimos aut sed asperiores deserunt'}, {'userId': 3, 'id': 25, 'title': 'rem alias distinctio quo quis', 'body': 'ullam consequatur ut\\nomnis quis sit vel consequuntur\\nipsa eligendi ipsum molestiae et omnis error nostrum\\nmolestiae illo tempore quia et distinctio'}, {'userId': 3, 'id': 26, 'title': 'est et quae odit qui non', 'body': 'similique esse doloribus nihil accusamus\\nomnis dolorem fuga consequuntur reprehenderit fugit recusandae temporibus\\nperspiciatis cum ut laudantium\\nomnis aut molestiae vel vero'}, {'userId': 3, 'id': 27, 'title': 'quasi id et eos tenetur aut quo autem', 'body': 'eum sed dolores ipsam sint possimus debitis occaecati\\ndebitis qui qui et\\nut placeat enim earum aut odit facilis\\nconsequatur suscipit necessitatibus rerum sed inventore temporibus consequatur'}, {'userId': 3, 'id': 28, 'title': 'delectus ullam et corporis nulla voluptas sequi', 'body': 'non et quaerat ex quae ad maiores\\nmaiores recusandae totam aut blanditiis mollitia quas illo\\nut voluptatibus voluptatem\\nsimilique nostrum eum'}, {'userId': 3, 'id': 29, 'title': 'iusto eius quod necessitatibus culpa ea', 'body': 'odit magnam ut saepe sed non qui\\ntempora atque nihil\\naccusamus illum doloribus illo dolor\\neligendi repudiandae odit magni similique sed cum maiores'}, {'userId': 3, 'id': 30, 'title': 'a quo magni similique perferendis', 'body': 'alias dolor cumque\\nimpedit blanditiis non eveniet odio maxime\\nblanditiis amet eius quis tempora quia autem rem\\na provident perspiciatis quia'}, {'userId': 4, 'id': 31, 'title': 'ullam ut quidem id aut vel consequuntur', 'body': 'debitis eius sed quibusdam non quis consectetur vitae\\nimpedit ut qui consequatur sed aut in\\nquidem sit nostrum et maiores adipisci atque\\nquaerat voluptatem adipisci repudiandae'}, {'userId': 4, 'id': 32, 'title': 'doloremque illum aliquid sunt', 'body': 'deserunt eos nobis asperiores et hic\\nest debitis repellat molestiae optio\\nnihil ratione ut eos beatae quibusdam distinctio maiores\\nearum voluptates et aut adipisci ea maiores voluptas maxime'}, {'userId': 4, 'id': 33, 'title': 'qui explicabo molestiae dolorem', 'body': 'rerum ut et numquam laborum odit est sit\\nid qui sint in\\nquasi tenetur tempore aperiam et quaerat qui in\\nrerum officiis sequi cumque quod'}, {'userId': 4, 'id': 34, 'title': 'magnam ut rerum iure', 'body': 'ea velit perferendis earum ut voluptatem voluptate itaque iusto\\ntotam pariatur in\\nnemo voluptatem voluptatem autem magni tempora minima in\\nest distinctio qui assumenda accusamus dignissimos officia nesciunt nobis'}, {'userId': 4, 'id': 35, 'title': 'id nihil consequatur molestias animi provident', 'body': 'nisi error delectus possimus ut eligendi vitae\\nplaceat eos harum cupiditate facilis reprehenderit voluptatem beatae\\nmodi ducimus quo illum voluptas eligendi\\net nobis quia fugit'}, {'userId': 4, 'id': 36, 'title': 'fuga nam accusamus voluptas reiciendis itaque', 'body': 'ad mollitia et omnis minus architecto odit\\nvoluptas doloremque maxime aut non ipsa qui alias veniam\\nblanditiis culpa aut quia nihil cumque facere et occaecati\\nqui aspernatur quia eaque ut aperiam inventore'}, {'userId': 4, 'id': 37, 'title': 'provident vel ut sit ratione est', 'body': 'debitis et eaque non officia sed nesciunt pariatur vel\\nvoluptatem iste vero et ea\\nnumquam aut expedita ipsum nulla in\\nvoluptates omnis consequatur aut enim officiis in quam qui'}, {'userId': 4, 'id': 38, 'title': 'explicabo et eos deleniti nostrum ab id repellendus', 'body': 'animi esse sit aut sit nesciunt assumenda eum voluptas\\nquia voluptatibus provident quia necessitatibus ea\\nrerum repudiandae quia voluptatem delectus fugit aut id quia\\nratione optio eos iusto veniam iure'}, {'userId': 4, 'id': 39, 'title': 'eos dolorem iste accusantium est eaque quam', 'body': 'corporis rerum ducimus vel eum accusantium\\nmaxime aspernatur a porro possimus iste omnis\\nest in deleniti asperiores fuga aut\\nvoluptas sapiente vel dolore minus voluptatem incidunt ex'}, {'userId': 4, 'id': 40, 'title': 'enim quo cumque', 'body': 'ut voluptatum aliquid illo tenetur nemo sequi quo facilis\\nipsum rem optio mollitia quas\\nvoluptatem eum voluptas qui\\nunde omnis voluptatem iure quasi maxime voluptas nam'}, {'userId': 5, 'id': 41, 'title': 'non est facere', 'body': 'molestias id nostrum\\nexcepturi molestiae dolore omnis repellendus quaerat saepe\\nconsectetur iste quaerat tenetur asperiores accusamus ex ut\\nnam quidem est ducimus sunt debitis saepe'}, {'userId': 5, 'id': 42, 'title': 'commodi ullam sint et excepturi error explicabo praesentium voluptas', 'body': 'odio fugit voluptatum ducimus earum autem est incidunt voluptatem\\nodit reiciendis aliquam sunt sequi nulla dolorem\\nnon facere repellendus voluptates quia\\nratione harum vitae ut'}, {'userId': 5, 'id': 43, 'title': 'eligendi iste nostrum consequuntur adipisci praesentium sit beatae perferendis', 'body': 'similique fugit est\\nillum et dolorum harum et voluptate eaque quidem\\nexercitationem quos nam commodi possimus cum odio nihil nulla\\ndolorum exercitationem magnam ex et a et distinctio debitis'}, {'userId': 5, 'id': 44, 'title': 'optio dolor molestias sit', 'body': 'temporibus est consectetur dolore\\net libero debitis vel velit laboriosam quia\\nipsum quibusdam qui itaque fuga rem aut\\nea et iure quam sed maxime ut distinctio quae'}, {'userId': 5, 'id': 45, 'title': 'ut numquam possimus omnis eius suscipit laudantium iure', 'body': 'est natus reiciendis nihil possimus aut provident\\nex et dolor\\nrepellat pariatur est\\nnobis rerum repellendus dolorem autem'}, {'userId': 5, 'id': 46, 'title': 'aut quo modi neque nostrum ducimus', 'body': 'voluptatem quisquam iste\\nvoluptatibus natus officiis facilis dolorem\\nquis quas ipsam\\nvel et voluptatum in aliquid'}, {'userId': 5, 'id': 47, 'title': 'quibusdam cumque rem aut deserunt', 'body': 'voluptatem assumenda ut qui ut cupiditate aut impedit veniam\\noccaecati nemo illum voluptatem laudantium\\nmolestiae beatae rerum ea iure soluta nostrum\\neligendi et voluptate'}, {'userId': 5, 'id': 48, 'title': 'ut voluptatem illum ea doloribus itaque eos', 'body': 'voluptates quo voluptatem facilis iure occaecati\\nvel assumenda rerum officia et\\nillum perspiciatis ab deleniti\\nlaudantium repellat ad ut et autem reprehenderit'}, {'userId': 5, 'id': 49, 'title': 'laborum non sunt aut ut assumenda perspiciatis voluptas', 'body': 'inventore ab sint\\nnatus fugit id nulla sequi architecto nihil quaerat\\neos tenetur in in eum veritatis non\\nquibusdam officiis aspernatur cumque aut commodi aut'}, {'userId': 5, 'id': 50, 'title': 'repellendus qui recusandae incidunt voluptates tenetur qui omnis exercitationem', 'body': 'error suscipit maxime adipisci consequuntur recusandae\\nvoluptas eligendi et est et voluptates\\nquia distinctio ab amet quaerat molestiae et vitae\\nadipisci impedit sequi nesciunt quis consectetur'}, {'userId': 6, 'id': 51, 'title': 'soluta aliquam aperiam consequatur illo quis voluptas', 'body': 'sunt dolores aut doloribus\\ndolore doloribus voluptates tempora et\\ndoloremque et quo\\ncum asperiores sit consectetur dolorem'}, {'userId': 6, 'id': 52, 'title': 'qui enim et consequuntur quia animi quis voluptate quibusdam', 'body': 'iusto est quibusdam fuga quas quaerat molestias\\na enim ut sit accusamus enim\\ntemporibus iusto accusantium provident architecto\\nsoluta esse reprehenderit qui laborum'}, {'userId': 6, 'id': 53, 'title': 'ut quo aut ducimus alias', 'body': 'minima harum praesentium eum rerum illo dolore\\nquasi exercitationem rerum nam\\nporro quis neque quo\\nconsequatur minus dolor quidem veritatis sunt non explicabo similique'}, {'userId': 6, 'id': 54, 'title': 'sit asperiores ipsam eveniet odio non quia', 'body': 'totam corporis dignissimos\\nvitae dolorem ut occaecati accusamus\\nex velit deserunt\\net exercitationem vero incidunt corrupti mollitia'}, {'userId': 6, 'id': 55, 'title': 'sit vel voluptatem et non libero', 'body': 'debitis excepturi ea perferendis harum libero optio\\neos accusamus cum fuga ut sapiente repudiandae\\net ut incidunt omnis molestiae\\nnihil ut eum odit'}, {'userId': 6, 'id': 56, 'title': 'qui et at rerum necessitatibus', 'body': 'aut est omnis dolores\\nneque rerum quod ea rerum velit pariatur beatae excepturi\\net provident voluptas corrupti\\ncorporis harum reprehenderit dolores eligendi'}, {'userId': 6, 'id': 57, 'title': 'sed ab est est', 'body': 'at pariatur consequuntur earum quidem\\nquo est laudantium soluta voluptatem\\nqui ullam et est\\net cum voluptas voluptatum repellat est'}, {'userId': 6, 'id': 58, 'title': 'voluptatum itaque dolores nisi et quasi', 'body': 'veniam voluptatum quae adipisci id\\net id quia eos ad et dolorem\\naliquam quo nisi sunt eos impedit error\\nad similique veniam'}, {'userId': 6, 'id': 59, 'title': 'qui commodi dolor at maiores et quis id accusantium', 'body': 'perspiciatis et quam ea autem temporibus non voluptatibus qui\\nbeatae a earum officia nesciunt dolores suscipit voluptas et\\nanimi doloribus cum rerum quas et magni\\net hic ut ut commodi expedita sunt'}, {'userId': 6, 'id': 60, 'title': 'consequatur placeat omnis quisquam quia reprehenderit fugit veritatis facere', 'body': 'asperiores sunt ab assumenda cumque modi velit\\nqui esse omnis\\nvoluptate et fuga perferendis voluptas\\nillo ratione amet aut et omnis'}, {'userId': 7, 'id': 61, 'title': 'voluptatem doloribus consectetur est ut ducimus', 'body': 'ab nemo optio odio\\ndelectus tenetur corporis similique nobis repellendus rerum omnis facilis\\nvero blanditiis debitis in nesciunt doloribus dicta dolores\\nmagnam minus velit'}, {'userId': 7, 'id': 62, 'title': 'beatae enim quia vel', 'body': 'enim aspernatur illo distinctio quae praesentium\\nbeatae alias amet delectus qui voluptate distinctio\\nodit sint accusantium autem omnis\\nquo molestiae omnis ea eveniet optio'}, {'userId': 7, 'id': 63, 'title': 'voluptas blanditiis repellendus animi ducimus error sapiente et suscipit', 'body': 'enim adipisci aspernatur nemo\\nnumquam omnis facere dolorem dolor ex quis temporibus incidunt\\nab delectus culpa quo reprehenderit blanditiis asperiores\\naccusantium ut quam in voluptatibus voluptas ipsam dicta'}, {'userId': 7, 'id': 64, 'title': 'et fugit quas eum in in aperiam quod', 'body': 'id velit blanditiis\\neum ea voluptatem\\nmolestiae sint occaecati est eos perspiciatis\\nincidunt a error provident eaque aut aut qui'}, {'userId': 7, 'id': 65, 'title': 'consequatur id enim sunt et et', 'body': 'voluptatibus ex esse\\nsint explicabo est aliquid cumque adipisci fuga repellat labore\\nmolestiae corrupti ex saepe at asperiores et perferendis\\nnatus id esse incidunt pariatur'}, {'userId': 7, 'id': 66, 'title': 'repudiandae ea animi iusto', 'body': 'officia veritatis tenetur vero qui itaque\\nsint non ratione\\nsed et ut asperiores iusto eos molestiae nostrum\\nveritatis quibusdam et nemo iusto saepe'}, {'userId': 7, 'id': 67, 'title': 'aliquid eos sed fuga est maxime repellendus', 'body': 'reprehenderit id nostrum\\nvoluptas doloremque pariatur sint et accusantium quia quod aspernatur\\net fugiat amet\\nnon sapiente et consequatur necessitatibus molestiae'}, {'userId': 7, 'id': 68, 'title': 'odio quis facere architecto reiciendis optio', 'body': 'magnam molestiae perferendis quisquam\\nqui cum reiciendis\\nquaerat animi amet hic inventore\\nea quia deleniti quidem saepe porro velit'}, {'userId': 7, 'id': 69, 'title': 'fugiat quod pariatur odit minima', 'body': 'officiis error culpa consequatur modi asperiores et\\ndolorum assumenda voluptas et vel qui aut vel rerum\\nvoluptatum quisquam perspiciatis quia rerum consequatur totam quas\\nsequi commodi repudiandae asperiores et saepe a'}, {'userId': 7, 'id': 70, 'title': 'voluptatem laborum magni', 'body': 'sunt repellendus quae\\nest asperiores aut deleniti esse accusamus repellendus quia aut\\nquia dolorem unde\\neum tempora esse dolore'}, {'userId': 8, 'id': 71, 'title': 'et iusto veniam et illum aut fuga', 'body': 'occaecati a doloribus\\niste saepe consectetur placeat eum voluptate dolorem et\\nqui quo quia voluptas\\nrerum ut id enim velit est perferendis'}, {'userId': 8, 'id': 72, 'title': 'sint hic doloribus consequatur eos non id', 'body': 'quam occaecati qui deleniti consectetur\\nconsequatur aut facere quas exercitationem aliquam hic voluptas\\nneque id sunt ut aut accusamus\\nsunt consectetur expedita inventore velit'}, {'userId': 8, 'id': 73, 'title': 'consequuntur deleniti eos quia temporibus ab aliquid at', 'body': 'voluptatem cumque tenetur consequatur expedita ipsum nemo quia explicabo\\naut eum minima consequatur\\ntempore cumque quae est et\\net in consequuntur voluptatem voluptates aut'}, {'userId': 8, 'id': 74, 'title': 'enim unde ratione doloribus quas enim ut sit sapiente', 'body': 'odit qui et et necessitatibus sint veniam\\nmollitia amet doloremque molestiae commodi similique magnam et quam\\nblanditiis est itaque\\nquo et tenetur ratione occaecati molestiae tempora'}, {'userId': 8, 'id': 75, 'title': 'dignissimos eum dolor ut enim et delectus in', 'body': 'commodi non non omnis et voluptas sit\\nautem aut nobis magnam et sapiente voluptatem\\net laborum repellat qui delectus facilis temporibus\\nrerum amet et nemo voluptate expedita adipisci error dolorem'}, {'userId': 8, 'id': 76, 'title': 'doloremque officiis ad et non perferendis', 'body': 'ut animi facere\\ntotam iusto tempore\\nmolestiae eum aut et dolorem aperiam\\nquaerat recusandae totam odio'}, {'userId': 8, 'id': 77, 'title': 'necessitatibus quasi exercitationem odio', 'body': 'modi ut in nulla repudiandae dolorum nostrum eos\\naut consequatur omnis\\nut incidunt est omnis iste et quam\\nvoluptates sapiente aliquam asperiores nobis amet corrupti repudiandae provident'}, {'userId': 8, 'id': 78, 'title': 'quam voluptatibus rerum veritatis', 'body': 'nobis facilis odit tempore cupiditate quia\\nassumenda doloribus rerum qui ea\\nillum et qui totam\\naut veniam repellendus'}, {'userId': 8, 'id': 79, 'title': 'pariatur consequatur quia magnam autem omnis non amet', 'body': 'libero accusantium et et facere incidunt sit dolorem\\nnon excepturi qui quia sed laudantium\\nquisquam molestiae ducimus est\\nofficiis esse molestiae iste et quos'}, {'userId': 8, 'id': 80, 'title': 'labore in ex et explicabo corporis aut quas', 'body': 'ex quod dolorem ea eum iure qui provident amet\\nquia qui facere excepturi et repudiandae\\nasperiores molestias provident\\nminus incidunt vero fugit rerum sint sunt excepturi provident'}, {'userId': 9, 'id': 81, 'title': 'tempora rem veritatis voluptas quo dolores vero', 'body': 'facere qui nesciunt est voluptatum voluptatem nisi\\nsequi eligendi necessitatibus ea at rerum itaque\\nharum non ratione velit laboriosam quis consequuntur\\nex officiis minima doloremque voluptas ut aut'}, {'userId': 9, 'id': 82, 'title': 'laudantium voluptate suscipit sunt enim enim', 'body': 'ut libero sit aut totam inventore sunt\\nporro sint qui sunt molestiae\\nconsequatur cupiditate qui iste ducimus adipisci\\ndolor enim assumenda soluta laboriosam amet iste delectus hic'}, {'userId': 9, 'id': 83, 'title': 'odit et voluptates doloribus alias odio et', 'body': 'est molestiae facilis quis tempora numquam nihil qui\\nvoluptate sapiente consequatur est qui\\nnecessitatibus autem aut ipsa aperiam modi dolore numquam\\nreprehenderit eius rem quibusdam'}, {'userId': 9, 'id': 84, 'title': 'optio ipsam molestias necessitatibus occaecati facilis veritatis dolores aut', 'body': 'sint molestiae magni a et quos\\neaque et quasi\\nut rerum debitis similique veniam\\nrecusandae dignissimos dolor incidunt consequatur odio'}, {'userId': 9, 'id': 85, 'title': 'dolore veritatis porro provident adipisci blanditiis et sunt', 'body': 'similique sed nisi voluptas iusto omnis\\nmollitia et quo\\nassumenda suscipit officia magnam sint sed tempora\\nenim provident pariatur praesentium atque animi amet ratione'}, {'userId': 9, 'id': 86, 'title': 'placeat quia et porro iste', 'body': 'quasi excepturi consequatur iste autem temporibus sed molestiae beatae\\net quaerat et esse ut\\nvoluptatem occaecati et vel explicabo autem\\nasperiores pariatur deserunt optio'}, {'userId': 9, 'id': 87, 'title': 'nostrum quis quasi placeat', 'body': 'eos et molestiae\\nnesciunt ut a\\ndolores perspiciatis repellendus repellat aliquid\\nmagnam sint rem ipsum est'}, {'userId': 9, 'id': 88, 'title': 'sapiente omnis fugit eos', 'body': 'consequatur omnis est praesentium\\nducimus non iste\\nneque hic deserunt\\nvoluptatibus veniam cum et rerum sed'}, {'userId': 9, 'id': 89, 'title': 'sint soluta et vel magnam aut ut sed qui', 'body': 'repellat aut aperiam totam temporibus autem et\\narchitecto magnam ut\\nconsequatur qui cupiditate rerum quia soluta dignissimos nihil iure\\ntempore quas est'}, {'userId': 9, 'id': 90, 'title': 'ad iusto omnis odit dolor voluptatibus', 'body': 'minus omnis soluta quia\\nqui sed adipisci voluptates illum ipsam voluptatem\\neligendi officia ut in\\neos soluta similique molestias praesentium blanditiis'}, {'userId': 10, 'id': 91, 'title': 'aut amet sed', 'body': 'libero voluptate eveniet aperiam sed\\nsunt placeat suscipit molestias\\nsimilique fugit nam natus\\nexpedita consequatur consequatur dolores quia eos et placeat'}, {'userId': 10, 'id': 92, 'title': 'ratione ex tenetur perferendis', 'body': 'aut et excepturi dicta laudantium sint rerum nihil\\nlaudantium et at\\na neque minima officia et similique libero et\\ncommodi voluptate qui'}, {'userId': 10, 'id': 93, 'title': 'beatae soluta recusandae', 'body': 'dolorem quibusdam ducimus consequuntur dicta aut quo laboriosam\\nvoluptatem quis enim recusandae ut sed sunt\\nnostrum est odit totam\\nsit error sed sunt eveniet provident qui nulla'}, {'userId': 10, 'id': 94, 'title': 'qui qui voluptates illo iste minima', 'body': 'aspernatur expedita soluta quo ab ut similique\\nexpedita dolores amet\\nsed temporibus distinctio magnam saepe deleniti\\nomnis facilis nam ipsum natus sint similique omnis'}, {'userId': 10, 'id': 95, 'title': 'id minus libero illum nam ad officiis', 'body': 'earum voluptatem facere provident blanditiis velit laboriosam\\npariatur accusamus odio saepe\\ncumque dolor qui a dicta ab doloribus consequatur omnis\\ncorporis cupiditate eaque assumenda ad nesciunt'}, {'userId': 10, 'id': 96, 'title': 'quaerat velit veniam amet cupiditate aut numquam ut sequi', 'body': 'in non odio excepturi sint eum\\nlabore voluptates vitae quia qui et\\ninventore itaque rerum\\nveniam non exercitationem delectus aut'}, {'userId': 10, 'id': 97, 'title': 'quas fugiat ut perspiciatis vero provident', 'body': 'eum non blanditiis soluta porro quibusdam voluptas\\nvel voluptatem qui placeat dolores qui velit aut\\nvel inventore aut cumque culpa explicabo aliquid at\\nperspiciatis est et voluptatem dignissimos dolor itaque sit nam'}, {'userId': 10, 'id': 98, 'title': 'laboriosam dolor voluptates', 'body': 'doloremque ex facilis sit sint culpa\\nsoluta assumenda eligendi non ut eius\\nsequi ducimus vel quasi\\nveritatis est dolores'}, {'userId': 10, 'id': 99, 'title': 'temporibus sit alias delectus eligendi possimus magni', 'body': 'quo deleniti praesentium dicta non quod\\naut est molestias\\nmolestias et officia quis nihil\\nitaque dolorem quia'}, {'userId': 10, 'id': 100, 'title': 'at nam consequatur ea labore ea harum', 'body': 'cupiditate quo est a modi nesciunt soluta\\nipsa voluptas error itaque dicta in\\nautem qui minus magnam et distinctio eum\\naccusamus ratione error aut'}]\n"
     ]
    }
   ],
   "source": [
    "#GET 요청 보내기\n",
    "import requests\n",
    "\n",
    "url = 'https://jsonplaceholder.typicode.com/posts'\n",
    "response = requests.get(url)\n",
    "print(response.status_code)  # 응답 코드 출력\n",
    "print(response.json())  # JSON 형식의 응답 데이터 출력"
   ]
  },
  {
   "cell_type": "code",
   "execution_count": null,
   "metadata": {},
   "outputs": [
    {
     "name": "stdout",
     "output_type": "stream",
     "text": [
      "201\n",
      "{'title': 'foo', 'body': 'bar', 'userId': 1, 'id': 101}\n"
     ]
    }
   ],
   "source": [
    "# POST 요청 보내기\n",
    "data = {'title': 'foo', 'body': 'bar', 'userId': 1}\n",
    "response = requests.post('https://jsonplaceholder.typicode.com/posts', json=data)\n",
    "print(response.status_code)  # 응답 코드 출력\n",
    "print(response.json())  # JSON 형식의 응답 데이터 출력"
   ]
  },
  {
   "cell_type": "code",
   "execution_count": 20,
   "metadata": {},
   "outputs": [
    {
     "name": "stdout",
     "output_type": "stream",
     "text": [
      "[{'userId': 1, 'id': 1, 'title': 'sunt aut facere repellat provident occaecati excepturi optio reprehenderit', 'body': 'quia et suscipit\\nsuscipit recusandae consequuntur expedita et cum\\nreprehenderit molestiae ut ut quas totam\\nnostrum rerum est autem sunt rem eveniet architecto'}, {'userId': 1, 'id': 2, 'title': 'qui est esse', 'body': 'est rerum tempore vitae\\nsequi sint nihil reprehenderit dolor beatae ea dolores neque\\nfugiat blanditiis voluptate porro vel nihil molestiae ut reiciendis\\nqui aperiam non debitis possimus qui neque nisi nulla'}, {'userId': 1, 'id': 3, 'title': 'ea molestias quasi exercitationem repellat qui ipsa sit aut', 'body': 'et iusto sed quo iure\\nvoluptatem occaecati omnis eligendi aut ad\\nvoluptatem doloribus vel accusantium quis pariatur\\nmolestiae porro eius odio et labore et velit aut'}, {'userId': 1, 'id': 4, 'title': 'eum et est occaecati', 'body': 'ullam et saepe reiciendis voluptatem adipisci\\nsit amet autem assumenda provident rerum culpa\\nquis hic commodi nesciunt rem tenetur doloremque ipsam iure\\nquis sunt voluptatem rerum illo velit'}, {'userId': 1, 'id': 5, 'title': 'nesciunt quas odio', 'body': 'repudiandae veniam quaerat sunt sed\\nalias aut fugiat sit autem sed est\\nvoluptatem omnis possimus esse voluptatibus quis\\nest aut tenetur dolor neque'}, {'userId': 1, 'id': 6, 'title': 'dolorem eum magni eos aperiam quia', 'body': 'ut aspernatur corporis harum nihil quis provident sequi\\nmollitia nobis aliquid molestiae\\nperspiciatis et ea nemo ab reprehenderit accusantium quas\\nvoluptate dolores velit et doloremque molestiae'}, {'userId': 1, 'id': 7, 'title': 'magnam facilis autem', 'body': 'dolore placeat quibusdam ea quo vitae\\nmagni quis enim qui quis quo nemo aut saepe\\nquidem repellat excepturi ut quia\\nsunt ut sequi eos ea sed quas'}, {'userId': 1, 'id': 8, 'title': 'dolorem dolore est ipsam', 'body': 'dignissimos aperiam dolorem qui eum\\nfacilis quibusdam animi sint suscipit qui sint possimus cum\\nquaerat magni maiores excepturi\\nipsam ut commodi dolor voluptatum modi aut vitae'}, {'userId': 1, 'id': 9, 'title': 'nesciunt iure omnis dolorem tempora et accusantium', 'body': 'consectetur animi nesciunt iure dolore\\nenim quia ad\\nveniam autem ut quam aut nobis\\net est aut quod aut provident voluptas autem voluptas'}, {'userId': 1, 'id': 10, 'title': 'optio molestias id quia eum', 'body': 'quo et expedita modi cum officia vel magni\\ndoloribus qui repudiandae\\nvero nisi sit\\nquos veniam quod sed accusamus veritatis error'}]\n"
     ]
    }
   ],
   "source": [
    "# 헤더(Header) 및 파라미터(Parameter) 설정\n",
    "headers = {'User-Agent': 'Mozilla/5.0'}\n",
    "params = {'userId': 1}\n",
    "response = requests.get('https://jsonplaceholder.typicode.com/posts', headers=headers, params=params)\n",
    "print(response.json())"
   ]
  },
  {
   "cell_type": "code",
   "execution_count": 1,
   "metadata": {},
   "outputs": [
    {
     "name": "stdout",
     "output_type": "stream",
     "text": [
      "HTTP 서버 시작됨. <http://localhost:8000> 에서 접근 가능\n"
     ]
    },
    {
     "ename": "KeyboardInterrupt",
     "evalue": "",
     "output_type": "error",
     "traceback": [
      "\u001b[0;31m---------------------------------------------------------------------------\u001b[0m",
      "\u001b[0;31mKeyboardInterrupt\u001b[0m                         Traceback (most recent call last)",
      "Cell \u001b[0;32mIn[1], line 12\u001b[0m\n\u001b[1;32m     10\u001b[0m httpd \u001b[38;5;241m=\u001b[39m HTTPServer((\u001b[38;5;124m'\u001b[39m\u001b[38;5;124mlocalhost\u001b[39m\u001b[38;5;124m'\u001b[39m, \u001b[38;5;241m8000\u001b[39m), SimpleHTTPRequestHandler)\n\u001b[1;32m     11\u001b[0m \u001b[38;5;28mprint\u001b[39m(\u001b[38;5;124m\"\u001b[39m\u001b[38;5;124mHTTP 서버 시작됨. <http://localhost:8000> 에서 접근 가능\u001b[39m\u001b[38;5;124m\"\u001b[39m)\n\u001b[0;32m---> 12\u001b[0m \u001b[43mhttpd\u001b[49m\u001b[38;5;241;43m.\u001b[39;49m\u001b[43mserve_forever\u001b[49m\u001b[43m(\u001b[49m\u001b[43m)\u001b[49m\n",
      "File \u001b[0;32m/opt/anaconda3/envs/test1026/lib/python3.10/socketserver.py:232\u001b[0m, in \u001b[0;36mBaseServer.serve_forever\u001b[0;34m(self, poll_interval)\u001b[0m\n\u001b[1;32m    229\u001b[0m selector\u001b[38;5;241m.\u001b[39mregister(\u001b[38;5;28mself\u001b[39m, selectors\u001b[38;5;241m.\u001b[39mEVENT_READ)\n\u001b[1;32m    231\u001b[0m \u001b[38;5;28;01mwhile\u001b[39;00m \u001b[38;5;129;01mnot\u001b[39;00m \u001b[38;5;28mself\u001b[39m\u001b[38;5;241m.\u001b[39m__shutdown_request:\n\u001b[0;32m--> 232\u001b[0m     ready \u001b[38;5;241m=\u001b[39m \u001b[43mselector\u001b[49m\u001b[38;5;241;43m.\u001b[39;49m\u001b[43mselect\u001b[49m\u001b[43m(\u001b[49m\u001b[43mpoll_interval\u001b[49m\u001b[43m)\u001b[49m\n\u001b[1;32m    233\u001b[0m     \u001b[38;5;66;03m# bpo-35017: shutdown() called during select(), exit immediately.\u001b[39;00m\n\u001b[1;32m    234\u001b[0m     \u001b[38;5;28;01mif\u001b[39;00m \u001b[38;5;28mself\u001b[39m\u001b[38;5;241m.\u001b[39m__shutdown_request:\n",
      "File \u001b[0;32m/opt/anaconda3/envs/test1026/lib/python3.10/selectors.py:416\u001b[0m, in \u001b[0;36m_PollLikeSelector.select\u001b[0;34m(self, timeout)\u001b[0m\n\u001b[1;32m    414\u001b[0m ready \u001b[38;5;241m=\u001b[39m []\n\u001b[1;32m    415\u001b[0m \u001b[38;5;28;01mtry\u001b[39;00m:\n\u001b[0;32m--> 416\u001b[0m     fd_event_list \u001b[38;5;241m=\u001b[39m \u001b[38;5;28;43mself\u001b[39;49m\u001b[38;5;241;43m.\u001b[39;49m\u001b[43m_selector\u001b[49m\u001b[38;5;241;43m.\u001b[39;49m\u001b[43mpoll\u001b[49m\u001b[43m(\u001b[49m\u001b[43mtimeout\u001b[49m\u001b[43m)\u001b[49m\n\u001b[1;32m    417\u001b[0m \u001b[38;5;28;01mexcept\u001b[39;00m \u001b[38;5;167;01mInterruptedError\u001b[39;00m:\n\u001b[1;32m    418\u001b[0m     \u001b[38;5;28;01mreturn\u001b[39;00m ready\n",
      "\u001b[0;31mKeyboardInterrupt\u001b[0m: "
     ]
    }
   ],
   "source": [
    "from http.server import BaseHTTPRequestHandler, HTTPServer\n",
    "\n",
    "class SimpleHTTPRequestHandler(BaseHTTPRequestHandler):\n",
    "    def do_GET(self):\n",
    "        self.send_response(200)\n",
    "        self.send_header(\"Content-type\", \"text/html\")\n",
    "        self.end_headers()\n",
    "        self.wfile.write(b\"Hello, World!\")\n",
    "\n",
    "httpd = HTTPServer(('localhost', 8000), SimpleHTTPRequestHandler)\n",
    "print(\"HTTP 서버 시작됨. <http://localhost:8000> 에서 접근 가능\")\n",
    "httpd.serve_forever()"
   ]
  }
 ],
 "metadata": {
  "kernelspec": {
   "display_name": "test1026",
   "language": "python",
   "name": "python3"
  },
  "language_info": {
   "codemirror_mode": {
    "name": "ipython",
    "version": 3
   },
   "file_extension": ".py",
   "mimetype": "text/x-python",
   "name": "python",
   "nbconvert_exporter": "python",
   "pygments_lexer": "ipython3",
   "version": "3.10.16"
  }
 },
 "nbformat": 4,
 "nbformat_minor": 2
}
